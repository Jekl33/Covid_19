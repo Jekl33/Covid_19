{
    "metadata": {
        "kernelspec": {
            "name": "SQL",
            "display_name": "SQL",
            "language": "sql"
        },
        "language_info": {
            "name": "sql",
            "version": ""
        }
    },
    "nbformat_minor": 2,
    "nbformat": 4,
    "cells": [
        {
            "cell_type": "code",
            "source": [
                "--Covid 19\n",
                "\n",
                "--Skills used: Joins, CTE's, Temp Tables, Windows Functions, Aggregate Functions, Creating Views, Converting Data Types \n",
                ""
            ],
            "metadata": {
                "azdata_cell_guid": "bb5553d6-d111-49c8-af96-2897ebd7f985",
                "language": "sql"
            },
            "outputs": [],
            "execution_count": null
        },
        {
            "cell_type": "code",
            "source": [
                "Select * \n",
                "From PortfolioProject..CovidDeaths \n",
                "Where continent is not null order by 3,4"
            ],
            "metadata": {
                "language": "sql",
                "azdata_cell_guid": "37cb9128-325e-43af-b1f4-fd44ad965ca9"
            },
            "outputs": [],
            "execution_count": null
        },
        {
            "cell_type": "code",
            "source": [
                "-- Select Data that we are going to be starting with \n",
                "\n",
                "Select Location, date, total_cases, new_cases, total_deaths, population\n",
                "From PortfolioProject..CovidDeaths \n",
                "Where continent is not null order by 1,2 "
            ],
            "metadata": {
                "language": "sql",
                "azdata_cell_guid": "9a1d9d52-a3bf-4975-a215-05436661baae",
                "tags": []
            },
            "outputs": [],
            "execution_count": null
        },
        {
            "cell_type": "code",
            "source": [
                "-- Total Cases vs Total Deaths -- Shows likelihood of dying if you contract covid in your country \n",
                "\n",
                "Select Location, date, total_cases,total_deaths, (total_deaths/total_cases)*100 as DeathPercentage\n",
                "From PortfolioProject..CovidDeaths\n",
                "Where location like '%states%' and continent is not null order by 1,2 "
            ],
            "metadata": {
                "language": "sql",
                "azdata_cell_guid": "3a167177-96a6-4dea-81f1-436407a1cc3c"
            },
            "outputs": [],
            "execution_count": null
        },
        {
            "cell_type": "code",
            "source": [
                "-- Total Cases vs Population -- Shows what percentage of population infected with Covid \n",
                "\n",
                "Select Location, date, Population, total_cases, (total_cases/population)*100 as PercentPopulationInfected\n",
                "From PortfolioProject..CovidDeaths \n",
                "--Where location like '%states%' order by 1,2 "
            ],
            "metadata": {
                "language": "sql",
                "azdata_cell_guid": "8761cdb2-77de-4b59-889b-2b2267e75faf"
            },
            "outputs": [],
            "execution_count": null
        },
        {
            "cell_type": "code",
            "source": [
                "-- Countries with Highest Infection Rate compared to Population \n",
                "\n",
                "Select Location, Population, MAX(total_cases) as HighestInfectionCount, Max((total_cases/population))*100 as PercentPopulationInfected\n",
                "From PortfolioProject..CovidDeaths \n",
                "--Where location like '%states%' Group by Location, Population order by PercentPopulationInfected desc "
            ],
            "metadata": {
                "language": "sql",
                "azdata_cell_guid": "b5cbd237-f38f-4b85-aba8-5b4de915ce4b"
            },
            "outputs": [],
            "execution_count": null
        },
        {
            "cell_type": "code",
            "source": [
                "-- Countries with Highest Death Count per Population\n",
                "\n",
                "Select Location, MAX(cast(Total_deaths as int)) as TotalDeathCount\n",
                "From PortfolioProject..CovidDeaths\n",
                "--Where location like '%states%' Where continent is not null Group by Location order by TotalDeathCount desc "
            ],
            "metadata": {
                "language": "sql",
                "azdata_cell_guid": "53a6138a-be2c-47ff-af58-8c7e0104a0aa"
            },
            "outputs": [],
            "execution_count": null
        },
        {
            "cell_type": "code",
            "source": [
                "-- BREAKING THINGS DOWN BY CONTINENT \n",
                "-- Showing contintents with the highest death count per population \n",
                "\n",
                "Select continent, MAX(cast(Total_deaths as int)) as TotalDeathCount\n",
                "From PortfolioProject..CovidDeaths\n",
                "--Where location like '%states%' Where continent is not null Group by continent order by TotalDeathCount desc "
            ],
            "metadata": {
                "language": "sql",
                "azdata_cell_guid": "192ca24e-a9e6-4a17-9b7c-db59742992e7"
            },
            "outputs": [],
            "execution_count": null
        },
        {
            "cell_type": "code",
            "source": [
                "-- GLOBAL NUMBERS \n",
                "\n",
                "Select SUM(new_cases) as total_cases, SUM(cast(new_deaths as int)) as total_deaths, SUM(cast(new_deaths as int))/SUM(New_Cases)*100 as DeathPercentage\n",
                "From PortfolioProject..CovidDeaths \n",
                "--Where location like '%states%' where continent is not null --Group By date order by 1,2 "
            ],
            "metadata": {
                "language": "sql",
                "azdata_cell_guid": "33b70cf3-8021-41f3-b561-8260fb218195"
            },
            "outputs": [],
            "execution_count": null
        },
        {
            "cell_type": "code",
            "source": [
                "-- Total Population vs Vaccinations\n",
                "-- Shows Percentage of Population that has recieved at least one Covid Vaccine \n",
                "\n",
                "Select dea.continent, dea.location, dea.date, dea.population, vac.new_vaccinations , SUM(CONVERT(int,vac.new_vaccinations)) OVER (Partition by dea.Location Order by dea.location, dea.Date) as RollingPeopleVaccinated \n",
                "--, (RollingPeopleVaccinated/population)*100 From PortfolioProject..CovidDeaths dea Join PortfolioProject..CovidVaccinations vac On dea.location = vac.location and dea.date = vac.date where dea.continent is not null order by 2,3 "
            ],
            "metadata": {
                "language": "sql",
                "azdata_cell_guid": "614b715c-d97b-4c62-bc1a-42d8b03fbac4"
            },
            "outputs": [],
            "execution_count": null
        },
        {
            "cell_type": "code",
            "source": [
                "-- Using CTE to perform Calculation on Partition By in previous query \n",
                "\n",
                "With PopvsVac (Continent, Location, Date, Population, New_Vaccinations, RollingPeopleVaccinated) as ( Select dea.continent, dea.location, dea.date, dea.population, vac.new_vaccinations , SUM(CONVERT(int,vac.new_vaccinations)) OVER (Partition by dea.Location Order by dea.location, dea.Date) as RollingPeopleVaccinated\n",
                "--, (RollingPeopleVaccinated/population)*100 From PortfolioProject..CovidDeaths dea Join PortfolioProject..CovidVaccinations vac On dea.location = vac.location and dea.date = vac.date where dea.continent is not null --order by 2,3 ) Select *, (RollingPeopleVaccinated/Population)*100 From PopvsVac "
            ],
            "metadata": {
                "language": "sql",
                "azdata_cell_guid": "4573aff9-4e6a-4528-9c32-ca697079a726"
            },
            "outputs": [],
            "execution_count": null
        },
        {
            "cell_type": "code",
            "source": [
                "-- Using Temp Table to perform Calculation on Partition By in previous query \n",
                "\n",
                "DROP Table if exists #PercentPopulationVaccinated Create Table\n",
                "#PercentPopulationVaccinated ( Continent nvarchar(255), Location nvarchar(255), Date datetime, Population numeric, New_vaccinations numeric, RollingPeopleVaccinated numeric ) \n",
                "\n",
                "Insert into #PercentPopulationVaccinated Select dea.continent, dea.location, dea.date, dea.population,\n",
                "vac.new_vaccinations , SUM(CONVERT(int,vac.new_vaccinations)) \n",
                "OVER (Partition by dea.Location Order by dea.location, dea.Date) as RollingPeopleVaccinated\n",
                "--, (RollingPeopleVaccinated/population)*100 From PortfolioProject..CovidDeaths dea Join PortfolioProject..CovidVaccinations vac On dea.location = vac.location and dea.date = vac.date\n",
                "--where dea.continent is not null --order by 2,3 "
            ],
            "metadata": {
                "language": "sql",
                "azdata_cell_guid": "9376dcf0-e2ca-4994-a183-1734735b4c97"
            },
            "outputs": [],
            "execution_count": null
        },
        {
            "cell_type": "code",
            "source": [
                "Select *, (RollingPeopleVaccinated/Population)*100\n",
                "From #PercentPopulationVaccinated "
            ],
            "metadata": {
                "language": "sql",
                "azdata_cell_guid": "23a21868-0559-4ab3-93b3-1b707394da24"
            },
            "outputs": [],
            "execution_count": null
        },
        {
            "cell_type": "code",
            "source": [
                "-- Creating View to store data for later visualizations \n",
                "\n",
                "Create View PercentPopulationVaccinated as Select dea.continent, dea.location, dea.date, dea.population, vac.new_vaccinations , SUM(CONVERT(int,vac.new_vaccinations)) OVER (Partition by dea.Location Order by dea.location, dea.Date) as RollingPeopleVaccinated \n",
                "--, (RollingPeopleVaccinated/population)*100 From PortfolioProject..CovidDeaths dea Join PortfolioProject..CovidVaccinations vac On dea.location = vac.location and dea.date = vac.date where dea.continent is not null "
            ],
            "metadata": {
                "language": "sql",
                "azdata_cell_guid": "f31011d0-bebe-4093-96f1-728afadc78cb"
            },
            "outputs": [],
            "execution_count": null
        }
    ]
}